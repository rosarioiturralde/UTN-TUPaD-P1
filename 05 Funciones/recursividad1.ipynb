{
  "nbformat": 4,
  "nbformat_minor": 0,
  "metadata": {
    "colab": {
      "provenance": []
    },
    "kernelspec": {
      "name": "python3",
      "display_name": "Python 3"
    },
    "language_info": {
      "name": "python"
    }
  },
  "cells": [
    {
      "cell_type": "code",
      "execution_count": null,
      "metadata": {
        "id": "x9xOABUnjgWm"
      },
      "outputs": [],
      "source": []
    },
    {
      "cell_type": "markdown",
      "source": [
        "1) Crea una función recursiva que calcule el factorial de un número. Luego, utiliza esa función para calcular y mostrar en pantalla el factorial de todos los números enteros entre 1 y el número que indique el usuario\n"
      ],
      "metadata": {
        "id": "pbN8kcTtjoS1"
      }
    },
    {
      "cell_type": "code",
      "source": [
        "# Función recursiva para calcular el factorial\n",
        "def factorial(n):\n",
        "    if n == 0 or n == 1:\n",
        "        return 1\n",
        "    else:\n",
        "        return n * factorial(n - 1)\n",
        "\n",
        "# Solicitar al usuario un número entero\n",
        "numero = int(input(\"Ingrese un número entero mayor que cero: \"))\n",
        "\n",
        "# Verificar que el número sea mayor que cero\n",
        "if numero < 1:\n",
        "    print(\"Por favor, ingrese un número mayor que cero.\")\n",
        "else:\n",
        "    print(f\"\\nFactoriales del 1 al {numero}:\")\n",
        "    for i in range(1, numero + 1):\n",
        "        print(f\"{i}! = {factorial(i)}\")\n"
      ],
      "metadata": {
        "id": "ecqc6g63jpxM"
      },
      "execution_count": null,
      "outputs": []
    },
    {
      "cell_type": "markdown",
      "source": [
        "2) Crea una función recursiva que calcule el valor de la serie de Fibonacci en la posición indicada. Posteriormente, muestra la serie completa hasta la posición que el usuario especifique."
      ],
      "metadata": {
        "id": "5tbtNf-4j4wK"
      }
    },
    {
      "cell_type": "code",
      "source": [
        "# Función recursiva para calcular el número de Fibonacci en la posición n\n",
        "def fibonacci(n):\n",
        "    if n == 0:\n",
        "        return 0\n",
        "    elif n == 1:\n",
        "        return 1\n",
        "    else:\n",
        "        return fibonacci(n - 1) + fibonacci(n - 2)\n",
        "\n",
        "# Solicitar al usuario una posición\n",
        "posicion = int(input(\"Ingrese una posición (entero mayor o igual a 0): \"))\n",
        "\n",
        "# Verificar que la posición sea válida\n",
        "if posicion < 0:\n",
        "    print(\"Por favor, ingrese un número entero mayor o igual a 0.\")\n",
        "else:\n",
        "    print(f\"\\nSerie de Fibonacci hasta la posición {posicion}:\")\n",
        "    for i in range(posicion + 1):\n",
        "        print(f\"F({i}) = {fibonacci(i)}\")\n"
      ],
      "metadata": {
        "id": "sy0r9sqxj9dk"
      },
      "execution_count": null,
      "outputs": []
    },
    {
      "cell_type": "markdown",
      "source": [
        "3) Crea una función recursiva que calcule la potencia de un número base elevado a un exponente, utilizando la fórmula 𝑛𝑚= 𝑛∗𝑛(𝑚−1). Prueba esta función en un algoritmo general.\n"
      ],
      "metadata": {
        "id": "3sAzEwTdkHW7"
      }
    },
    {
      "cell_type": "code",
      "source": [
        "# Función recursiva para calcular la potencia n^m\n",
        "def potencia(n, m):\n",
        "    if m == 0:\n",
        "        return 1\n",
        "    else:\n",
        "        return n * potencia(n, m - 1)\n",
        "\n",
        "# Solicitar al usuario la base y el exponente\n",
        "base = float(input(\"Ingrese la base: \"))\n",
        "exponente = int(input(\"Ingrese el exponente (entero mayor o igual a 0): \"))\n",
        "\n",
        "# Verificar que el exponente sea válido\n",
        "if exponente < 0:\n",
        "    print(\"Por favor, ingrese un exponente entero mayor o igual a 0.\")\n",
        "else:\n",
        "    resultado = potencia(base, exponente)\n",
        "    print(f\"\\n{base}^{exponente} = {resultado}\")\n"
      ],
      "metadata": {
        "id": "Du55AfFskToM"
      },
      "execution_count": null,
      "outputs": []
    },
    {
      "cell_type": "markdown",
      "source": [],
      "metadata": {
        "id": "cJ-NTYn0kVZG"
      }
    }
  ]
}