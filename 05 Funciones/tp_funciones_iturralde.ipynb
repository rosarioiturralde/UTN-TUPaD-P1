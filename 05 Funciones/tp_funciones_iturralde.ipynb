{
  "nbformat": 4,
  "nbformat_minor": 0,
  "metadata": {
    "colab": {
      "provenance": []
    },
    "kernelspec": {
      "name": "python3",
      "display_name": "Python 3"
    },
    "language_info": {
      "name": "python"
    }
  },
  "cells": [
    {
      "cell_type": "code",
      "execution_count": null,
      "metadata": {
        "id": "9v72kicWuCBf"
      },
      "outputs": [],
      "source": []
    },
    {
      "cell_type": "markdown",
      "source": [
        "Crear una función llamada imprimir_hola_mundo que imprima por\n",
        "pantalla el mensaje: “Hola Mundo!”. Llamar a esta función desde el\n",
        "programa principal."
      ],
      "metadata": {
        "id": "vL7i7neouE-f"
      }
    },
    {
      "cell_type": "code",
      "source": [
        "# Definición de la función\n",
        "def imprimir_hola_mundo():\n",
        "    print(\"Hola Mundo!\")\n",
        "\n",
        "# Llamada a la función desde el programa principal\n",
        "imprimir_hola_mundo()"
      ],
      "metadata": {
        "colab": {
          "base_uri": "https://localhost:8080/"
        },
        "id": "PcgawIeyuIXa",
        "outputId": "70699c22-4786-4500-9baf-b9474a4f1eb9"
      },
      "execution_count": 1,
      "outputs": [
        {
          "output_type": "stream",
          "name": "stdout",
          "text": [
            "Hola Mundo!\n"
          ]
        }
      ]
    },
    {
      "cell_type": "markdown",
      "source": [
        "Crear una función llamada saludar_usuario(nombre) que reciba\n",
        "como parámetro un nombre y devuelva un saludo personalizado.\n",
        "Por ejemplo, si se llama con saludar_usuario(\"Marcos\"), deberá devolver:\n",
        "“Hola Marcos!”. Llamar a esta función desde el programa\n",
        "principal solicitando el nombre al usuario."
      ],
      "metadata": {
        "id": "pCc-YEnBuXWH"
      }
    },
    {
      "cell_type": "code",
      "source": [
        "# Definición de la función\n",
        "def saludar_usuario(nombre):\n",
        "    return f\"Hola {nombre}!\"\n",
        "\n",
        "# Programa principal\n",
        "nombre_usuario = input(\"Ingresá tu nombre: \")\n",
        "saludo = saludar_usuario(nombre_usuario)\n",
        "print(saludo)"
      ],
      "metadata": {
        "colab": {
          "base_uri": "https://localhost:8080/"
        },
        "id": "jrg9_SpsudCx",
        "outputId": "6791c969-27c6-4d56-bf04-1f237c472f21"
      },
      "execution_count": 2,
      "outputs": [
        {
          "output_type": "stream",
          "name": "stdout",
          "text": [
            "Ingresá tu nombre: rosario\n",
            "Hola rosario!\n"
          ]
        }
      ]
    },
    {
      "cell_type": "markdown",
      "source": [
        "Crear una función llamada informacion_personal(nombre, apellido,\n",
        "edad, residencia) que reciba cuatro parámetros e imprima: “Soy\n",
        "[nombre] [apellido], tengo [edad] años y vivo en [residencia]”. Pedir\n",
        "los datos al usuario y llamar a esta función con los valores ingresados."
      ],
      "metadata": {
        "id": "bypkC-YrurLE"
      }
    },
    {
      "cell_type": "code",
      "source": [
        "# Definición de la función\n",
        "def informacion_personal(nombre, apellido, edad, residencia):\n",
        "    print(f\"Soy {nombre} {apellido}, tengo {edad} años y vivo en {residencia}.\")\n",
        "\n",
        "# Programa principal\n",
        "nombre = input(\"Ingresá tu nombre: \")\n",
        "apellido = input(\"Ingresá tu apellido: \")\n",
        "edad = input(\"Ingresá tu edad: \")\n",
        "residencia = input(\"¿Dónde vivís?: \")\n",
        "\n",
        "informacion_personal(nombre, apellido, edad, residencia)\n"
      ],
      "metadata": {
        "colab": {
          "base_uri": "https://localhost:8080/"
        },
        "id": "dvX43aYvum2F",
        "outputId": "fa23d4e2-e458-46ef-f2c1-193ade0b256b"
      },
      "execution_count": 3,
      "outputs": [
        {
          "output_type": "stream",
          "name": "stdout",
          "text": [
            "Ingresá tu nombre: rosario\n",
            "Ingresá tu apellido: iturralde\n",
            "Ingresá tu edad: 36\n",
            "¿Dónde vivís?: olavarria\n",
            "Soy rosario iturralde, tengo 36 años y vivo en olavarria.\n"
          ]
        }
      ]
    },
    {
      "cell_type": "markdown",
      "source": [
        "Crear dos funciones: calcular_area_circulo(radio) que reciba el radio\n",
        "como parámetro y devuelva el área del círculo. calcular_perimetro_\n",
        "circulo(radio) que reciba el radio como parámetro y devuelva\n",
        "el perímetro del círculo. Solicitar el radio al usuario y llamar ambas\n",
        "funciones para mostrar los resultados.\n"
      ],
      "metadata": {
        "id": "kZzY8U1YvNTj"
      }
    },
    {
      "cell_type": "code",
      "source": [
        "import math  # Importamos el módulo math para usar math.pi\n",
        "\n",
        "# Función para calcular el área del círculo\n",
        "def calcular_area_circulo(radio):\n",
        "    return math.pi * radio ** 2\n",
        "\n",
        "# Función para calcular el perímetro del círculo\n",
        "def calcular_perimetro_circulo(radio):\n",
        "    return 2 * math.pi * radio\n",
        "\n",
        "# Programa principal\n",
        "radio = float(input(\"Ingresá el radio del círculo: \"))\n",
        "\n",
        "area = calcular_area_circulo(radio)\n",
        "perimetro = calcular_perimetro_circulo(radio)\n",
        "\n",
        "print(f\"El área del círculo es: {area:.2f}\")\n",
        "print(f\"El perímetro del círculo es: {perimetro:.2f}\")\n"
      ],
      "metadata": {
        "colab": {
          "base_uri": "https://localhost:8080/"
        },
        "id": "IU6eCdyMvcT_",
        "outputId": "a0dcbb01-61ed-4bc5-a7bf-e803c7fc308d"
      },
      "execution_count": 4,
      "outputs": [
        {
          "output_type": "stream",
          "name": "stdout",
          "text": [
            "Ingresá el radio del círculo: 4\n",
            "El área del círculo es: 50.27\n",
            "El perímetro del círculo es: 25.13\n"
          ]
        }
      ]
    },
    {
      "cell_type": "markdown",
      "source": [
        "Crear una función llamada segundos_a_horas(segundos) que reciba\n",
        "una cantidad de segundos como parámetro y devuelva la cantidad\n",
        "de horas correspondientes. Solicitar al usuario los segundos y mostrar\n",
        "el resultado usando esta función."
      ],
      "metadata": {
        "id": "K_XiZqfgvvFC"
      }
    },
    {
      "cell_type": "code",
      "source": [
        "# Función para convertir segundos a horas\n",
        "def segundos_a_horas(segundos):\n",
        "    return segundos / 3600  # 1 hora = 3600 segundos\n",
        "\n",
        "# Programa principal\n",
        "segundos = float(input(\"Ingresá la cantidad de segundos: \"))\n",
        "horas = segundos_a_horas(segundos)\n",
        "\n",
        "print(f\"{segundos} segundos equivalen a {horas:.2f} horas.\")\n"
      ],
      "metadata": {
        "colab": {
          "base_uri": "https://localhost:8080/"
        },
        "id": "znjuQBZNv2Hq",
        "outputId": "27cc90e8-0e71-4db8-96b0-d86d7e9f2aeb"
      },
      "execution_count": 5,
      "outputs": [
        {
          "output_type": "stream",
          "name": "stdout",
          "text": [
            "Ingresá la cantidad de segundos: 60\n",
            "60.0 segundos equivalen a 0.02 horas.\n"
          ]
        }
      ]
    },
    {
      "cell_type": "markdown",
      "source": [
        "Crear una función llamada tabla_multiplicar(numero) que reciba un\n",
        "número como parámetro y imprima la tabla de multiplicar de ese\n",
        "número del 1 al 10. Pedir al usuario el número y llamar a la función.\n"
      ],
      "metadata": {
        "id": "2Hl9N3PBwdnE"
      }
    },
    {
      "cell_type": "code",
      "source": [
        "# Función que imprime la tabla de multiplicar del número recibido\n",
        "def tabla_multiplicar(numero):\n",
        "    print(f\"Tabla de multiplicar del {numero}:\")\n",
        "    for i in range(1, 11):\n",
        "        resultado = numero * i\n",
        "        print(f\"{numero} x {i} = {resultado}\")\n",
        "\n",
        "# Programa principal\n",
        "numero = int(input(\"Ingresá un número para ver su tabla de multiplicar: \"))\n",
        "tabla_multiplicar(numero)\n"
      ],
      "metadata": {
        "colab": {
          "base_uri": "https://localhost:8080/"
        },
        "id": "BGmX3DKVwfmN",
        "outputId": "7762d585-0b86-40ca-a7a2-a884358b0669"
      },
      "execution_count": 6,
      "outputs": [
        {
          "output_type": "stream",
          "name": "stdout",
          "text": [
            "Ingresá un número para ver su tabla de multiplicar: 2\n",
            "Tabla de multiplicar del 2:\n",
            "2 x 1 = 2\n",
            "2 x 2 = 4\n",
            "2 x 3 = 6\n",
            "2 x 4 = 8\n",
            "2 x 5 = 10\n",
            "2 x 6 = 12\n",
            "2 x 7 = 14\n",
            "2 x 8 = 16\n",
            "2 x 9 = 18\n",
            "2 x 10 = 20\n"
          ]
        }
      ]
    },
    {
      "cell_type": "markdown",
      "source": [
        "Crear una función llamada operaciones_basicas(a, b) que reciba\n",
        "dos números como parámetros y devuelva una tupla con el resultado\n",
        "de sumarlos, restarlos, multiplicarlos y dividirlos. Mostrar los resultados\n",
        "de forma clara."
      ],
      "metadata": {
        "id": "zPhKe-_twoEN"
      }
    },
    {
      "cell_type": "code",
      "source": [
        "# Función que realiza operaciones básicas y devuelve una tupla con los resultados\n",
        "def operaciones_basicas(a, b):\n",
        "    suma = a + b\n",
        "    resta = a - b\n",
        "    multiplicacion = a * b\n",
        "    if b != 0:\n",
        "        division = a / b\n",
        "    else:\n",
        "        division = \"No se puede dividir por cero\"\n",
        "    return (suma, resta, multiplicacion, division)\n",
        "\n",
        "# Programa principal\n",
        "a = float(input(\"Ingresá el primer número: \"))\n",
        "b = float(input(\"Ingresá el segundo número: \"))\n",
        "\n",
        "resultados = operaciones_basicas(a, b)\n",
        "\n",
        "print(\"\\nResultados:\")\n",
        "print(f\"Suma: {resultados[0]}\")\n",
        "print(f\"Resta: {resultados[1]}\")\n",
        "print(f\"Multiplicación: {resultados[2]}\")\n",
        "print(f\"División: {resultados[3]}\")\n"
      ],
      "metadata": {
        "colab": {
          "base_uri": "https://localhost:8080/"
        },
        "id": "bDLkWd0awwSK",
        "outputId": "bde6e7ba-2b46-4297-f161-a085e6074b64"
      },
      "execution_count": 7,
      "outputs": [
        {
          "output_type": "stream",
          "name": "stdout",
          "text": [
            "Ingresá el primer número: 5\n",
            "Ingresá el segundo número: 2\n",
            "\n",
            "Resultados:\n",
            "Suma: 7.0\n",
            "Resta: 3.0\n",
            "Multiplicación: 10.0\n",
            "División: 2.5\n"
          ]
        }
      ]
    },
    {
      "cell_type": "markdown",
      "source": [
        "Crear una función llamada calcular_imc(peso, altura) que reciba el\n",
        "peso en kilogramos y la altura en metros, y devuelva el índice de\n",
        "masa corporal (IMC). Solicitar al usuario los datos y llamar a la función\n",
        "para mostrar el resultado con dos decimales."
      ],
      "metadata": {
        "id": "RsOwY4KyxaJy"
      }
    },
    {
      "cell_type": "code",
      "source": [
        "# Función para calcular el índice de masa corporal (IMC)\n",
        "def calcular_imc(peso, altura):\n",
        "    return peso / (altura ** 2)\n",
        "\n",
        "# Programa principal\n",
        "peso = float(input(\"Ingresá tu peso en kilogramos: \"))\n",
        "altura = float(input(\"Ingresá tu altura en metros: \"))\n",
        "\n",
        "imc = calcular_imc(peso, altura)\n",
        "\n",
        "print(f\"Tu índice de masa corporal (IMC) es: {imc:.2f}\")\n"
      ],
      "metadata": {
        "colab": {
          "base_uri": "https://localhost:8080/"
        },
        "id": "NIliKn6lxe1T",
        "outputId": "43f34218-1942-4e68-99ec-e110d19267c8"
      },
      "execution_count": 8,
      "outputs": [
        {
          "output_type": "stream",
          "name": "stdout",
          "text": [
            "Ingresá tu peso en kilogramos: 66\n",
            "Ingresá tu altura en metros: 1.57\n",
            "Tu índice de masa corporal (IMC) es: 26.78\n"
          ]
        }
      ]
    },
    {
      "cell_type": "markdown",
      "source": [
        "Crear una función llamada celsius_a_fahrenheit(celsius) que reciba\n",
        "una temperatura en grados Celsius y devuelva su equivalente en\n",
        "Fahrenheit. Pedir al usuario la temperatura en Celsius y mostrar el\n",
        "resultado usando la función."
      ],
      "metadata": {
        "id": "xFFHvi1sxpD7"
      }
    },
    {
      "cell_type": "code",
      "source": [
        "# Función para convertir Celsius a Fahrenheit\n",
        "def celsius_a_fahrenheit(celsius):\n",
        "    return celsius * 9 / 5 + 32\n",
        "\n",
        "# Programa principal\n",
        "celsius = float(input(\"Ingresá la temperatura en grados Celsius: \"))\n",
        "fahrenheit = celsius_a_fahrenheit(celsius)\n",
        "\n",
        "print(f\"{celsius}°C equivalen a {fahrenheit:.2f}°F.\")\n"
      ],
      "metadata": {
        "id": "w0Y7XmYcx1Ma"
      },
      "execution_count": null,
      "outputs": []
    },
    {
      "cell_type": "markdown",
      "source": [
        "Crear una función llamada calcular_promedio(a, b, c) que reciba\n",
        "tres números como parámetros y devuelva el promedio de ellos.\n",
        "Solicitar los números al usuario y mostrar el resultado usando esta\n",
        "función."
      ],
      "metadata": {
        "id": "4ByqImKDx2tb"
      }
    },
    {
      "cell_type": "code",
      "source": [
        "# Función para calcular el promedio de tres números\n",
        "def calcular_promedio(a, b, c):\n",
        "    return (a + b + c) / 3\n",
        "\n",
        "# Programa principal\n",
        "num1 = float(input(\"Ingresá el primer número: \"))\n",
        "num2 = float(input(\"Ingresá el segundo número: \"))\n",
        "num3 = float(input(\"Ingresá el tercer número: \"))\n",
        "\n",
        "promedio = calcular_promedio(num1, num2, num3)\n",
        "print(f\"El promedio de los números ingresados es: {promedio:.2f}\")\n"
      ],
      "metadata": {
        "colab": {
          "base_uri": "https://localhost:8080/"
        },
        "id": "H_X2WwNjx7yU",
        "outputId": "6d829233-2907-4cc8-c9af-542f65bc63df"
      },
      "execution_count": 9,
      "outputs": [
        {
          "output_type": "stream",
          "name": "stdout",
          "text": [
            "Ingresá el primer número: 45\n",
            "Ingresá el segundo número: 67\n",
            "Ingresá el tercer número: 78\n",
            "El promedio de los números ingresados es: 63.33\n"
          ]
        }
      ]
    },
    {
      "cell_type": "code",
      "source": [],
      "metadata": {
        "id": "3QkuX_5ryCSi"
      },
      "execution_count": null,
      "outputs": []
    }
  ]
}